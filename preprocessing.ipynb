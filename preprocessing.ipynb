{
 "cells": [
  {
   "cell_type": "code",
   "execution_count": 5,
   "metadata": {},
   "outputs": [],
   "source": [
    "import numpy as np\n",
    "import matplotlib.pyplot as plt\n",
    "import pandas as pd"
   ]
  },
  {
   "cell_type": "code",
   "execution_count": 6,
   "metadata": {},
   "outputs": [],
   "source": [
    "dataset = pd.read_csv('Dataku.csv')\n",
    "x = dataset.iloc[:, :-1].values\n",
    "y = dataset.iloc[:, -1].values"
   ]
  },
  {
   "cell_type": "code",
   "execution_count": 7,
   "metadata": {},
   "outputs": [
    {
     "name": "stdout",
     "output_type": "stream",
     "text": [
      "[['Ronald' 60.0 50.0]\n",
      " ['Aldo' 70.0 80.0]\n",
      " ['Kimoy' 85.0 80.0]\n",
      " ['Ronald' 80.0 90.0]\n",
      " ['Aldo' 60.0 75.0]\n",
      " ['Kimoy' nan 60.0]\n",
      " ['Ronald' 90.0 60.0]\n",
      " ['Aldo' 80.0 70.0]\n",
      " ['Kimoy' 65.0 nan]\n",
      " ['Ronald' 65.0 65.0]]\n"
     ]
    }
   ],
   "source": [
    "print(x)"
   ]
  },
  {
   "cell_type": "code",
   "execution_count": 8,
   "metadata": {},
   "outputs": [
    {
     "name": "stdout",
     "output_type": "stream",
     "text": [
      "['No;;' 'Yes;;' 'Yes;;' 'Yes;;' 'No;;' 'No;;' 'Yes;;' 'Yes;;' 'No;;'\n",
      " 'No;;']\n"
     ]
    }
   ],
   "source": [
    "print(y)"
   ]
  },
  {
   "cell_type": "code",
   "execution_count": 10,
   "metadata": {},
   "outputs": [],
   "source": [
    "from sklearn.impute import SimpleImputer\n",
    "imputer = SimpleImputer(missing_values=np.nan, strategy='mean')\n",
    "imputer.fit(x[:, 1:3])\n",
    "x[:, 1:3] = imputer.transform(x[:, 1:3])"
   ]
  },
  {
   "cell_type": "code",
   "execution_count": 11,
   "metadata": {},
   "outputs": [
    {
     "name": "stdout",
     "output_type": "stream",
     "text": [
      "[['Ronald' 60.0 50.0]\n",
      " ['Aldo' 70.0 80.0]\n",
      " ['Kimoy' 85.0 80.0]\n",
      " ['Ronald' 80.0 90.0]\n",
      " ['Aldo' 60.0 75.0]\n",
      " ['Kimoy' 72.77777777777777 60.0]\n",
      " ['Ronald' 90.0 60.0]\n",
      " ['Aldo' 80.0 70.0]\n",
      " ['Kimoy' 65.0 70.0]\n",
      " ['Ronald' 65.0 65.0]]\n"
     ]
    }
   ],
   "source": [
    "print(x)"
   ]
  },
  {
   "cell_type": "code",
   "execution_count": 12,
   "metadata": {},
   "outputs": [],
   "source": [
    "from sklearn.compose import ColumnTransformer\n",
    "from sklearn.preprocessing import OneHotEncoder\n",
    "ct = ColumnTransformer(transformers=[('encoder',OneHotEncoder(), [0])], remainder='passthrough')\n",
    "x = np.array(ct.fit_transform(x))"
   ]
  },
  {
   "cell_type": "code",
   "execution_count": 13,
   "metadata": {},
   "outputs": [
    {
     "name": "stdout",
     "output_type": "stream",
     "text": [
      "[[0.0 0.0 1.0 60.0 50.0]\n",
      " [1.0 0.0 0.0 70.0 80.0]\n",
      " [0.0 1.0 0.0 85.0 80.0]\n",
      " [0.0 0.0 1.0 80.0 90.0]\n",
      " [1.0 0.0 0.0 60.0 75.0]\n",
      " [0.0 1.0 0.0 72.77777777777777 60.0]\n",
      " [0.0 0.0 1.0 90.0 60.0]\n",
      " [1.0 0.0 0.0 80.0 70.0]\n",
      " [0.0 1.0 0.0 65.0 70.0]\n",
      " [0.0 0.0 1.0 65.0 65.0]]\n"
     ]
    }
   ],
   "source": [
    "print(x)"
   ]
  },
  {
   "cell_type": "code",
   "execution_count": 14,
   "metadata": {},
   "outputs": [],
   "source": [
    "from sklearn.preprocessing import LabelEncoder\n",
    "le = LabelEncoder()\n",
    "y = le.fit_transform(y)"
   ]
  },
  {
   "cell_type": "code",
   "execution_count": 15,
   "metadata": {},
   "outputs": [
    {
     "name": "stdout",
     "output_type": "stream",
     "text": [
      "[0 1 1 1 0 0 1 1 0 0]\n"
     ]
    }
   ],
   "source": [
    "print(y)"
   ]
  },
  {
   "cell_type": "code",
   "execution_count": 16,
   "metadata": {},
   "outputs": [],
   "source": [
    "from sklearn.model_selection import train_test_split\n",
    "x_train, x_test, y_train, y_test = train_test_split(x, y, test_size=0.2, random_state = 1)"
   ]
  },
  {
   "cell_type": "code",
   "execution_count": 17,
   "metadata": {},
   "outputs": [
    {
     "name": "stdout",
     "output_type": "stream",
     "text": [
      "[[0.0 0.0 1.0 90.0 60.0]\n",
      " [1.0 0.0 0.0 60.0 75.0]\n",
      " [0.0 0.0 1.0 60.0 50.0]\n",
      " [0.0 0.0 1.0 80.0 90.0]\n",
      " [1.0 0.0 0.0 70.0 80.0]\n",
      " [1.0 0.0 0.0 80.0 70.0]\n",
      " [0.0 1.0 0.0 65.0 70.0]\n",
      " [0.0 1.0 0.0 72.77777777777777 60.0]]\n"
     ]
    }
   ],
   "source": [
    "print(x_train)"
   ]
  },
  {
   "cell_type": "code",
   "execution_count": 18,
   "metadata": {},
   "outputs": [
    {
     "name": "stdout",
     "output_type": "stream",
     "text": [
      "[[0.0 1.0 0.0 85.0 80.0]\n",
      " [0.0 0.0 1.0 65.0 65.0]]\n"
     ]
    }
   ],
   "source": [
    "print(x_test)"
   ]
  },
  {
   "cell_type": "code",
   "execution_count": 19,
   "metadata": {},
   "outputs": [
    {
     "name": "stdout",
     "output_type": "stream",
     "text": [
      "[1 0 0 1 1 1 0 0]\n"
     ]
    }
   ],
   "source": [
    "print(y_train)"
   ]
  },
  {
   "cell_type": "code",
   "execution_count": 20,
   "metadata": {},
   "outputs": [
    {
     "name": "stdout",
     "output_type": "stream",
     "text": [
      "[1 0]\n"
     ]
    }
   ],
   "source": [
    "print(y_test)"
   ]
  },
  {
   "cell_type": "code",
   "execution_count": 21,
   "metadata": {},
   "outputs": [],
   "source": [
    "from sklearn.preprocessing import StandardScaler\n",
    "sc = StandardScaler()\n",
    "x_train[:, 3:] = sc.fit_transform(x_train[:, 3:])\n",
    "x_test[:, 3:] = sc.transform(x_test[:, 3:])"
   ]
  },
  {
   "cell_type": "code",
   "execution_count": 22,
   "metadata": {},
   "outputs": [
    {
     "name": "stdout",
     "output_type": "stream",
     "text": [
      "[[0.0 0.0 1.0 1.7853707284853455 -0.7916697209538892]\n",
      " [1.0 0.0 0.0 -1.227442375833676 0.4750018325723335]\n",
      " [0.0 0.0 1.0 -1.227442375833676 -1.6361174233047044]\n",
      " [0.0 0.0 1.0 0.7810996937123383 1.7416733860985563]\n",
      " [1.0 0.0 0.0 -0.2231713410606689 0.8972256837477411]\n",
      " [1.0 0.0 0.0 0.7810996937123383 0.052777981396925945]\n",
      " [0.0 1.0 0.0 -0.7253068584471725 0.052777981396925945]\n",
      " [0.0 1.0 0.0 0.0557928352651658 -0.7916697209538892]]\n"
     ]
    }
   ],
   "source": [
    "print(x_train)"
   ]
  },
  {
   "cell_type": "code",
   "execution_count": 23,
   "metadata": {},
   "outputs": [
    {
     "name": "stdout",
     "output_type": "stream",
     "text": [
      "[[0.0 1.0 0.0 1.2832352110988419 0.8972256837477411]\n",
      " [0.0 0.0 1.0 -0.7253068584471725 -0.36944586977848165]]\n"
     ]
    }
   ],
   "source": [
    "print(x_test)"
   ]
  },
  {
   "cell_type": "code",
   "execution_count": null,
   "metadata": {},
   "outputs": [],
   "source": []
  }
 ],
 "metadata": {
  "kernelspec": {
   "display_name": "Python 3",
   "language": "python",
   "name": "python3"
  },
  "language_info": {
   "codemirror_mode": {
    "name": "ipython",
    "version": 3
   },
   "file_extension": ".py",
   "mimetype": "text/x-python",
   "name": "python",
   "nbconvert_exporter": "python",
   "pygments_lexer": "ipython3",
   "version": "3.8.5"
  }
 },
 "nbformat": 4,
 "nbformat_minor": 4
}
